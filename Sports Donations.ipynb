{
 "cells": [
  {
   "cell_type": "markdown",
   "metadata": {},
   "source": [
    "#  1. Project Overview "
   ]
  },
  {
   "cell_type": "markdown",
   "metadata": {},
   "source": [
    " ### Political Donations made by Owners from American Professional Sport Teams\n",
    " \n",
    " ##### Objectives: analyze and show different party donations made from each League in the dataset "
   ]
  },
  {
   "cell_type": "code",
   "execution_count": 1,
   "metadata": {},
   "outputs": [],
   "source": [
    "import pandas as pd\n",
    "import matplotlib\n",
    "from pandas import DataFrame\n",
    "import numpy as np"
   ]
  },
  {
   "cell_type": "markdown",
   "metadata": {},
   "source": [
    "# 2. Data Collection and Loading "
   ]
  },
  {
   "cell_type": "code",
   "execution_count": 2,
   "metadata": {},
   "outputs": [
    {
     "data": {
      "text/html": [
       "<div>\n",
       "<style scoped>\n",
       "    .dataframe tbody tr th:only-of-type {\n",
       "        vertical-align: middle;\n",
       "    }\n",
       "\n",
       "    .dataframe tbody tr th {\n",
       "        vertical-align: top;\n",
       "    }\n",
       "\n",
       "    .dataframe thead th {\n",
       "        text-align: right;\n",
       "    }\n",
       "</style>\n",
       "<table border=\"1\" class=\"dataframe\">\n",
       "  <thead>\n",
       "    <tr style=\"text-align: right;\">\n",
       "      <th></th>\n",
       "      <th>Owner</th>\n",
       "      <th>Team</th>\n",
       "      <th>League</th>\n",
       "      <th>Recipient</th>\n",
       "      <th>Amount</th>\n",
       "      <th>Election Year</th>\n",
       "      <th>Party</th>\n",
       "    </tr>\n",
       "  </thead>\n",
       "  <tbody>\n",
       "    <tr>\n",
       "      <th>0</th>\n",
       "      <td>Adam Silver</td>\n",
       "      <td>Commissioner</td>\n",
       "      <td>NBA</td>\n",
       "      <td>WRIGHT 2016</td>\n",
       "      <td>$4,000</td>\n",
       "      <td>2016</td>\n",
       "      <td>Democrat</td>\n",
       "    </tr>\n",
       "    <tr>\n",
       "      <th>1</th>\n",
       "      <td>Adam Silver</td>\n",
       "      <td>Commissioner</td>\n",
       "      <td>NBA</td>\n",
       "      <td>BIDEN FOR PRESIDENT</td>\n",
       "      <td>$2,800</td>\n",
       "      <td>2020</td>\n",
       "      <td>Democrat</td>\n",
       "    </tr>\n",
       "    <tr>\n",
       "      <th>2</th>\n",
       "      <td>Adam Silver</td>\n",
       "      <td>Commissioner</td>\n",
       "      <td>NBA</td>\n",
       "      <td>CORY 2020</td>\n",
       "      <td>$2,700</td>\n",
       "      <td>2020</td>\n",
       "      <td>Democrat</td>\n",
       "    </tr>\n",
       "    <tr>\n",
       "      <th>3</th>\n",
       "      <td>Adam Silver</td>\n",
       "      <td>Commissioner</td>\n",
       "      <td>NBA</td>\n",
       "      <td>Kamala Harris for the People</td>\n",
       "      <td>$2,700</td>\n",
       "      <td>2020</td>\n",
       "      <td>Democrat</td>\n",
       "    </tr>\n",
       "    <tr>\n",
       "      <th>4</th>\n",
       "      <td>Adam Silver</td>\n",
       "      <td>Commissioner</td>\n",
       "      <td>NBA</td>\n",
       "      <td>Win The Era PAC</td>\n",
       "      <td>$2,700</td>\n",
       "      <td>2020</td>\n",
       "      <td>Democrat</td>\n",
       "    </tr>\n",
       "    <tr>\n",
       "      <th>...</th>\n",
       "      <td>...</td>\n",
       "      <td>...</td>\n",
       "      <td>...</td>\n",
       "      <td>...</td>\n",
       "      <td>...</td>\n",
       "      <td>...</td>\n",
       "      <td>...</td>\n",
       "    </tr>\n",
       "    <tr>\n",
       "      <th>2793</th>\n",
       "      <td>Zygi Wilf</td>\n",
       "      <td>Minnesota Vikings</td>\n",
       "      <td>NFL</td>\n",
       "      <td>ANGIE CRAIG FOR CONGRESS</td>\n",
       "      <td>$2,700</td>\n",
       "      <td>2018</td>\n",
       "      <td>Democrat</td>\n",
       "    </tr>\n",
       "    <tr>\n",
       "      <th>2794</th>\n",
       "      <td>Zygi Wilf</td>\n",
       "      <td>Minnesota Vikings</td>\n",
       "      <td>NFL</td>\n",
       "      <td>DEAN PHILLIPS FOR CONGRESS</td>\n",
       "      <td>$2,700</td>\n",
       "      <td>2018</td>\n",
       "      <td>Democrat</td>\n",
       "    </tr>\n",
       "    <tr>\n",
       "      <th>2795</th>\n",
       "      <td>Zygi Wilf</td>\n",
       "      <td>Minnesota Vikings</td>\n",
       "      <td>NFL</td>\n",
       "      <td>MENENDEZ FOR SENATE</td>\n",
       "      <td>$2,700</td>\n",
       "      <td>2018</td>\n",
       "      <td>Democrat</td>\n",
       "    </tr>\n",
       "    <tr>\n",
       "      <th>2796</th>\n",
       "      <td>Zygi Wilf</td>\n",
       "      <td>Minnesota Vikings</td>\n",
       "      <td>NFL</td>\n",
       "      <td>TINA SMITH FOR MINNESOTA</td>\n",
       "      <td>$2,700</td>\n",
       "      <td>2018</td>\n",
       "      <td>Democrat</td>\n",
       "    </tr>\n",
       "    <tr>\n",
       "      <th>2797</th>\n",
       "      <td>Zygi Wilf</td>\n",
       "      <td>Minnesota Vikings</td>\n",
       "      <td>NFL</td>\n",
       "      <td>TOM MALINOWSKI FOR CONGRESS</td>\n",
       "      <td>$2,700</td>\n",
       "      <td>2018</td>\n",
       "      <td>Democrat</td>\n",
       "    </tr>\n",
       "  </tbody>\n",
       "</table>\n",
       "<p>2798 rows × 7 columns</p>\n",
       "</div>"
      ],
      "text/plain": [
       "            Owner               Team League                     Recipient  \\\n",
       "0     Adam Silver       Commissioner    NBA                   WRIGHT 2016   \n",
       "1     Adam Silver       Commissioner    NBA           BIDEN FOR PRESIDENT   \n",
       "2     Adam Silver       Commissioner    NBA                     CORY 2020   \n",
       "3     Adam Silver       Commissioner    NBA  Kamala Harris for the People   \n",
       "4     Adam Silver       Commissioner    NBA               Win The Era PAC   \n",
       "...           ...                ...    ...                           ...   \n",
       "2793    Zygi Wilf  Minnesota Vikings    NFL      ANGIE CRAIG FOR CONGRESS   \n",
       "2794    Zygi Wilf  Minnesota Vikings    NFL    DEAN PHILLIPS FOR CONGRESS   \n",
       "2795    Zygi Wilf  Minnesota Vikings    NFL           MENENDEZ FOR SENATE   \n",
       "2796    Zygi Wilf  Minnesota Vikings    NFL      TINA SMITH FOR MINNESOTA   \n",
       "2797    Zygi Wilf  Minnesota Vikings    NFL   TOM MALINOWSKI FOR CONGRESS   \n",
       "\n",
       "       Amount  Election Year     Party  \n",
       "0     $4,000            2016  Democrat  \n",
       "1     $2,800            2020  Democrat  \n",
       "2     $2,700            2020  Democrat  \n",
       "3     $2,700            2020  Democrat  \n",
       "4     $2,700            2020  Democrat  \n",
       "...       ...            ...       ...  \n",
       "2793  $2,700            2018  Democrat  \n",
       "2794  $2,700            2018  Democrat  \n",
       "2795  $2,700            2018  Democrat  \n",
       "2796  $2,700            2018  Democrat  \n",
       "2797  $2,700            2018  Democrat  \n",
       "\n",
       "[2798 rows x 7 columns]"
      ]
     },
     "execution_count": 2,
     "metadata": {},
     "output_type": "execute_result"
    }
   ],
   "source": [
    "df_donate = pd.read_csv(\"sports-political-donations.csv\")\n",
    "\n",
    "df_donate"
   ]
  },
  {
   "cell_type": "code",
   "execution_count": 3,
   "metadata": {},
   "outputs": [
    {
     "name": "stdout",
     "output_type": "stream",
     "text": [
      "<class 'pandas.core.frame.DataFrame'>\n",
      "RangeIndex: 2798 entries, 0 to 2797\n",
      "Data columns (total 7 columns):\n",
      " #   Column         Non-Null Count  Dtype \n",
      "---  ------         --------------  ----- \n",
      " 0   Owner          2798 non-null   object\n",
      " 1   Team           2798 non-null   object\n",
      " 2   League         2798 non-null   object\n",
      " 3   Recipient      2798 non-null   object\n",
      " 4   Amount         2798 non-null   object\n",
      " 5   Election Year  2798 non-null   int64 \n",
      " 6   Party          2789 non-null   object\n",
      "dtypes: int64(1), object(6)\n",
      "memory usage: 153.1+ KB\n",
      "None\n"
     ]
    }
   ],
   "source": [
    "print(df_donate.info())"
   ]
  },
  {
   "cell_type": "code",
   "execution_count": 4,
   "metadata": {},
   "outputs": [
    {
     "name": "stdout",
     "output_type": "stream",
     "text": [
      "The dataframe has 2798 rows and 7 columns!\n",
      "\n",
      "<class 'pandas.core.frame.DataFrame'>\n",
      "RangeIndex: 2798 entries, 0 to 2797\n",
      "Data columns (total 7 columns):\n",
      " #   Column         Non-Null Count  Dtype \n",
      "---  ------         --------------  ----- \n",
      " 0   Owner          2798 non-null   object\n",
      " 1   Team           2798 non-null   object\n",
      " 2   League         2798 non-null   object\n",
      " 3   Recipient      2798 non-null   object\n",
      " 4   Amount         2798 non-null   object\n",
      " 5   Election Year  2798 non-null   int64 \n",
      " 6   Party          2789 non-null   object\n",
      "dtypes: int64(1), object(6)\n",
      "memory usage: 153.1+ KB\n",
      "None\n"
     ]
    }
   ],
   "source": [
    "df_shape = df_donate.shape\n",
    "print(f'The dataframe has {df_shape[0]} rows and {df_shape[1]} columns!\\n')\n",
    "print(df_donate.info())"
   ]
  },
  {
   "cell_type": "code",
   "execution_count": 5,
   "metadata": {},
   "outputs": [
    {
     "data": {
      "text/html": [
       "<div>\n",
       "<style scoped>\n",
       "    .dataframe tbody tr th:only-of-type {\n",
       "        vertical-align: middle;\n",
       "    }\n",
       "\n",
       "    .dataframe tbody tr th {\n",
       "        vertical-align: top;\n",
       "    }\n",
       "\n",
       "    .dataframe thead th {\n",
       "        text-align: right;\n",
       "    }\n",
       "</style>\n",
       "<table border=\"1\" class=\"dataframe\">\n",
       "  <thead>\n",
       "    <tr style=\"text-align: right;\">\n",
       "      <th></th>\n",
       "      <th>Owner</th>\n",
       "      <th>Team</th>\n",
       "      <th>League</th>\n",
       "      <th>Recipient</th>\n",
       "      <th>Amount</th>\n",
       "      <th>Election Year</th>\n",
       "      <th>Party</th>\n",
       "    </tr>\n",
       "  </thead>\n",
       "  <tbody>\n",
       "    <tr>\n",
       "      <th>0</th>\n",
       "      <td>Adam Silver</td>\n",
       "      <td>Commissioner</td>\n",
       "      <td>NBA</td>\n",
       "      <td>WRIGHT 2016</td>\n",
       "      <td>$4,000</td>\n",
       "      <td>2016</td>\n",
       "      <td>Democrat</td>\n",
       "    </tr>\n",
       "    <tr>\n",
       "      <th>1</th>\n",
       "      <td>Adam Silver</td>\n",
       "      <td>Commissioner</td>\n",
       "      <td>NBA</td>\n",
       "      <td>BIDEN FOR PRESIDENT</td>\n",
       "      <td>$2,800</td>\n",
       "      <td>2020</td>\n",
       "      <td>Democrat</td>\n",
       "    </tr>\n",
       "    <tr>\n",
       "      <th>2</th>\n",
       "      <td>Adam Silver</td>\n",
       "      <td>Commissioner</td>\n",
       "      <td>NBA</td>\n",
       "      <td>CORY 2020</td>\n",
       "      <td>$2,700</td>\n",
       "      <td>2020</td>\n",
       "      <td>Democrat</td>\n",
       "    </tr>\n",
       "    <tr>\n",
       "      <th>3</th>\n",
       "      <td>Adam Silver</td>\n",
       "      <td>Commissioner</td>\n",
       "      <td>NBA</td>\n",
       "      <td>Kamala Harris for the People</td>\n",
       "      <td>$2,700</td>\n",
       "      <td>2020</td>\n",
       "      <td>Democrat</td>\n",
       "    </tr>\n",
       "    <tr>\n",
       "      <th>4</th>\n",
       "      <td>Adam Silver</td>\n",
       "      <td>Commissioner</td>\n",
       "      <td>NBA</td>\n",
       "      <td>Win The Era PAC</td>\n",
       "      <td>$2,700</td>\n",
       "      <td>2020</td>\n",
       "      <td>Democrat</td>\n",
       "    </tr>\n",
       "  </tbody>\n",
       "</table>\n",
       "</div>"
      ],
      "text/plain": [
       "         Owner          Team League                     Recipient   Amount  \\\n",
       "0  Adam Silver  Commissioner    NBA                   WRIGHT 2016  $4,000    \n",
       "1  Adam Silver  Commissioner    NBA           BIDEN FOR PRESIDENT  $2,800    \n",
       "2  Adam Silver  Commissioner    NBA                     CORY 2020  $2,700    \n",
       "3  Adam Silver  Commissioner    NBA  Kamala Harris for the People  $2,700    \n",
       "4  Adam Silver  Commissioner    NBA               Win The Era PAC  $2,700    \n",
       "\n",
       "   Election Year     Party  \n",
       "0           2016  Democrat  \n",
       "1           2020  Democrat  \n",
       "2           2020  Democrat  \n",
       "3           2020  Democrat  \n",
       "4           2020  Democrat  "
      ]
     },
     "execution_count": 5,
     "metadata": {},
     "output_type": "execute_result"
    }
   ],
   "source": [
    "df_donate.head()"
   ]
  },
  {
   "cell_type": "code",
   "execution_count": 6,
   "metadata": {},
   "outputs": [
    {
     "data": {
      "text/html": [
       "<div>\n",
       "<style scoped>\n",
       "    .dataframe tbody tr th:only-of-type {\n",
       "        vertical-align: middle;\n",
       "    }\n",
       "\n",
       "    .dataframe tbody tr th {\n",
       "        vertical-align: top;\n",
       "    }\n",
       "\n",
       "    .dataframe thead th {\n",
       "        text-align: right;\n",
       "    }\n",
       "</style>\n",
       "<table border=\"1\" class=\"dataframe\">\n",
       "  <thead>\n",
       "    <tr style=\"text-align: right;\">\n",
       "      <th></th>\n",
       "      <th>Owner</th>\n",
       "      <th>Team</th>\n",
       "      <th>League</th>\n",
       "      <th>Recipient</th>\n",
       "      <th>Amount</th>\n",
       "      <th>Election Year</th>\n",
       "      <th>Party</th>\n",
       "    </tr>\n",
       "  </thead>\n",
       "  <tbody>\n",
       "    <tr>\n",
       "      <th>2793</th>\n",
       "      <td>Zygi Wilf</td>\n",
       "      <td>Minnesota Vikings</td>\n",
       "      <td>NFL</td>\n",
       "      <td>ANGIE CRAIG FOR CONGRESS</td>\n",
       "      <td>$2,700</td>\n",
       "      <td>2018</td>\n",
       "      <td>Democrat</td>\n",
       "    </tr>\n",
       "    <tr>\n",
       "      <th>2794</th>\n",
       "      <td>Zygi Wilf</td>\n",
       "      <td>Minnesota Vikings</td>\n",
       "      <td>NFL</td>\n",
       "      <td>DEAN PHILLIPS FOR CONGRESS</td>\n",
       "      <td>$2,700</td>\n",
       "      <td>2018</td>\n",
       "      <td>Democrat</td>\n",
       "    </tr>\n",
       "    <tr>\n",
       "      <th>2795</th>\n",
       "      <td>Zygi Wilf</td>\n",
       "      <td>Minnesota Vikings</td>\n",
       "      <td>NFL</td>\n",
       "      <td>MENENDEZ FOR SENATE</td>\n",
       "      <td>$2,700</td>\n",
       "      <td>2018</td>\n",
       "      <td>Democrat</td>\n",
       "    </tr>\n",
       "    <tr>\n",
       "      <th>2796</th>\n",
       "      <td>Zygi Wilf</td>\n",
       "      <td>Minnesota Vikings</td>\n",
       "      <td>NFL</td>\n",
       "      <td>TINA SMITH FOR MINNESOTA</td>\n",
       "      <td>$2,700</td>\n",
       "      <td>2018</td>\n",
       "      <td>Democrat</td>\n",
       "    </tr>\n",
       "    <tr>\n",
       "      <th>2797</th>\n",
       "      <td>Zygi Wilf</td>\n",
       "      <td>Minnesota Vikings</td>\n",
       "      <td>NFL</td>\n",
       "      <td>TOM MALINOWSKI FOR CONGRESS</td>\n",
       "      <td>$2,700</td>\n",
       "      <td>2018</td>\n",
       "      <td>Democrat</td>\n",
       "    </tr>\n",
       "  </tbody>\n",
       "</table>\n",
       "</div>"
      ],
      "text/plain": [
       "          Owner               Team League                    Recipient  \\\n",
       "2793  Zygi Wilf  Minnesota Vikings    NFL     ANGIE CRAIG FOR CONGRESS   \n",
       "2794  Zygi Wilf  Minnesota Vikings    NFL   DEAN PHILLIPS FOR CONGRESS   \n",
       "2795  Zygi Wilf  Minnesota Vikings    NFL          MENENDEZ FOR SENATE   \n",
       "2796  Zygi Wilf  Minnesota Vikings    NFL     TINA SMITH FOR MINNESOTA   \n",
       "2797  Zygi Wilf  Minnesota Vikings    NFL  TOM MALINOWSKI FOR CONGRESS   \n",
       "\n",
       "       Amount  Election Year     Party  \n",
       "2793  $2,700            2018  Democrat  \n",
       "2794  $2,700            2018  Democrat  \n",
       "2795  $2,700            2018  Democrat  \n",
       "2796  $2,700            2018  Democrat  \n",
       "2797  $2,700            2018  Democrat  "
      ]
     },
     "execution_count": 6,
     "metadata": {},
     "output_type": "execute_result"
    }
   ],
   "source": [
    "df_donate.tail()"
   ]
  },
  {
   "cell_type": "markdown",
   "metadata": {},
   "source": [
    "# 3. Data Cleaning and Preparation"
   ]
  },
  {
   "cell_type": "code",
   "execution_count": 7,
   "metadata": {},
   "outputs": [
    {
     "name": "stdout",
     "output_type": "stream",
     "text": [
      "Now that I have deleted some columns, this dataframe has 2798 rows and 4 columns!\n"
     ]
    },
    {
     "data": {
      "text/html": [
       "<div>\n",
       "<style scoped>\n",
       "    .dataframe tbody tr th:only-of-type {\n",
       "        vertical-align: middle;\n",
       "    }\n",
       "\n",
       "    .dataframe tbody tr th {\n",
       "        vertical-align: top;\n",
       "    }\n",
       "\n",
       "    .dataframe thead th {\n",
       "        text-align: right;\n",
       "    }\n",
       "</style>\n",
       "<table border=\"1\" class=\"dataframe\">\n",
       "  <thead>\n",
       "    <tr style=\"text-align: right;\">\n",
       "      <th></th>\n",
       "      <th>Owner</th>\n",
       "      <th>League</th>\n",
       "      <th>Amount</th>\n",
       "      <th>Party</th>\n",
       "    </tr>\n",
       "  </thead>\n",
       "  <tbody>\n",
       "    <tr>\n",
       "      <th>0</th>\n",
       "      <td>Adam Silver</td>\n",
       "      <td>NBA</td>\n",
       "      <td>$4,000</td>\n",
       "      <td>Democrat</td>\n",
       "    </tr>\n",
       "    <tr>\n",
       "      <th>1</th>\n",
       "      <td>Adam Silver</td>\n",
       "      <td>NBA</td>\n",
       "      <td>$2,800</td>\n",
       "      <td>Democrat</td>\n",
       "    </tr>\n",
       "    <tr>\n",
       "      <th>2</th>\n",
       "      <td>Adam Silver</td>\n",
       "      <td>NBA</td>\n",
       "      <td>$2,700</td>\n",
       "      <td>Democrat</td>\n",
       "    </tr>\n",
       "    <tr>\n",
       "      <th>3</th>\n",
       "      <td>Adam Silver</td>\n",
       "      <td>NBA</td>\n",
       "      <td>$2,700</td>\n",
       "      <td>Democrat</td>\n",
       "    </tr>\n",
       "    <tr>\n",
       "      <th>4</th>\n",
       "      <td>Adam Silver</td>\n",
       "      <td>NBA</td>\n",
       "      <td>$2,700</td>\n",
       "      <td>Democrat</td>\n",
       "    </tr>\n",
       "  </tbody>\n",
       "</table>\n",
       "</div>"
      ],
      "text/plain": [
       "         Owner League   Amount     Party\n",
       "0  Adam Silver    NBA  $4,000   Democrat\n",
       "1  Adam Silver    NBA  $2,800   Democrat\n",
       "2  Adam Silver    NBA  $2,700   Democrat\n",
       "3  Adam Silver    NBA  $2,700   Democrat\n",
       "4  Adam Silver    NBA  $2,700   Democrat"
      ]
     },
     "execution_count": 7,
     "metadata": {},
     "output_type": "execute_result"
    }
   ],
   "source": [
    "#im going to get rid of the unwanted columns: \"Team\" and \"Recipient\" to focus only on the party and league \n",
    "\n",
    "df_donate_cols = df_donate.drop(['Recipient', 'Team', 'Election Year'], axis=1)\n",
    "\n",
    "#checking \n",
    "\n",
    "df_donate_cols.head()\n",
    "\n",
    "#changing the name of the variable\n",
    "donation_df = df_donate_cols\n",
    "\n",
    "df_shape = donation_df.shape\n",
    "\n",
    "print(f\"Now that I have deleted some columns, this dataframe has {df_shape[0]} rows and {df_shape[1]} columns!\")\n",
    "\n",
    "#double checking\n",
    "donation_df.head()\n"
   ]
  },
  {
   "cell_type": "code",
   "execution_count": 8,
   "metadata": {},
   "outputs": [
    {
     "name": "stdout",
     "output_type": "stream",
     "text": [
      "True\n"
     ]
    }
   ],
   "source": [
    "#checking for null values\n",
    "print(donation_df.isnull().any().any())"
   ]
  },
  {
   "cell_type": "code",
   "execution_count": 9,
   "metadata": {},
   "outputs": [
    {
     "data": {
      "text/plain": [
       "Owner     0\n",
       "League    0\n",
       "Amount    0\n",
       "Party     9\n",
       "dtype: int64"
      ]
     },
     "execution_count": 9,
     "metadata": {},
     "output_type": "execute_result"
    }
   ],
   "source": [
    "#seeing where the null values are located\n",
    "donation_df.isnull().sum()"
   ]
  },
  {
   "cell_type": "code",
   "execution_count": 10,
   "metadata": {},
   "outputs": [
    {
     "data": {
      "text/plain": [
       "Owner     0\n",
       "League    0\n",
       "Amount    0\n",
       "Party     0\n",
       "dtype: int64"
      ]
     },
     "execution_count": 10,
     "metadata": {},
     "output_type": "execute_result"
    }
   ],
   "source": [
    "#getting rid of the null values in the Party column and creating a new variable \n",
    "\n",
    "df_dropna = donation_df.dropna()\n",
    "\n",
    "#placing the cleaned variable inside the original df_donate variable\n",
    "\n",
    "donation_df = df_dropna\n",
    "\n",
    "#checking to see if it looks good\n",
    "\n",
    "donation_df.isnull().sum()"
   ]
  },
  {
   "cell_type": "code",
   "execution_count": 11,
   "metadata": {},
   "outputs": [
    {
     "data": {
      "text/plain": [
       "Index(['Owner', 'League', 'Amount', 'Party'], dtype='object')"
      ]
     },
     "execution_count": 11,
     "metadata": {},
     "output_type": "execute_result"
    }
   ],
   "source": [
    "donation_df.columns"
   ]
  },
  {
   "cell_type": "code",
   "execution_count": 12,
   "metadata": {},
   "outputs": [
    {
     "name": "stdout",
     "output_type": "stream",
     "text": [
      "False\n"
     ]
    },
    {
     "data": {
      "text/plain": [
       "Owner\n",
       "Charles Johnson                     213\n",
       "Micky Arison                        178\n",
       "John Rogers                         149\n",
       "Dan DeVos                           116\n",
       "Jody Allen (Paul G. Allen Trust)    108\n",
       "                                   ... \n",
       "Richard Petty                         1\n",
       "Stephen J. Bisciotti                  1\n",
       "Tom Ricketts                          1\n",
       "Troy Stafford                         1\n",
       "Wyc Grousbeck                         1\n",
       "Name: count, Length: 158, dtype: int64"
      ]
     },
     "execution_count": 12,
     "metadata": {},
     "output_type": "execute_result"
    }
   ],
   "source": [
    "#checking the different variables of the Owner column using value_counts() method\n",
    "\n",
    "owner_null= donation_df['Owner'].isna().any()\n",
    "print(owner_null)\n",
    "\n",
    "donation_df[\"Owner\"].value_counts()"
   ]
  },
  {
   "cell_type": "code",
   "execution_count": 13,
   "metadata": {},
   "outputs": [
    {
     "name": "stdout",
     "output_type": "stream",
     "text": [
      "False\n"
     ]
    },
    {
     "data": {
      "text/plain": [
       "Amount\n",
       "$2,700      436\n",
       "$5,400      384\n",
       "$5,000      263\n",
       "$1,000      245\n",
       "$5,600      226\n",
       "           ... \n",
       "$53,031       1\n",
       "$5,100        1\n",
       "$1,100        1\n",
       "$21,250       1\n",
       "$18,000       1\n",
       "Name: count, Length: 244, dtype: int64"
      ]
     },
     "execution_count": 13,
     "metadata": {},
     "output_type": "execute_result"
    }
   ],
   "source": [
    "#checking the different variables of the Amount column using value_counts() method\n",
    "amount_null= donation_df['Amount'].isna().any()\n",
    "print(amount_null)\n",
    "\n",
    "donation_df[\"Amount\"].value_counts()"
   ]
  },
  {
   "cell_type": "code",
   "execution_count": 14,
   "metadata": {},
   "outputs": [
    {
     "data": {
      "text/plain": [
       "Party\n",
       "Republican                           1625\n",
       "Democrat                              921\n",
       "Bipartisan                            195\n",
       "Bipartisan, but mostly Republican      40\n",
       "Bipartisan, but mostly Democratic       5\n",
       "Independent                             3\n",
       "Name: count, dtype: int64"
      ]
     },
     "execution_count": 14,
     "metadata": {},
     "output_type": "execute_result"
    }
   ],
   "source": [
    "#checking the Party columns values\n",
    "donation_df.Party.value_counts()\n",
    "\n"
   ]
  },
  {
   "cell_type": "markdown",
   "metadata": {},
   "source": [
    "### 3a. Removing Columns from df"
   ]
  },
  {
   "cell_type": "code",
   "execution_count": 15,
   "metadata": {},
   "outputs": [
    {
     "name": "stdout",
     "output_type": "stream",
     "text": [
      "The original DataFrame variables for the 'Party' column are:\n",
      "Party\n",
      "Republican                           1625\n",
      "Democrat                              921\n",
      "Bipartisan                            195\n",
      "Bipartisan, but mostly Republican      40\n",
      "Bipartisan, but mostly Democratic       5\n",
      "Independent                             3\n",
      "Name: count, dtype: int64\n",
      "\n",
      "\n",
      "The new DataFrame variables for the 'Party' column are:\n",
      "Party\n",
      "Republican    1625\n",
      "Democrat       921\n",
      "Bipartisan     195\n",
      "Name: count, dtype: int64\n"
     ]
    }
   ],
   "source": [
    "#I want to focus only on the top3: Rep, Dem, Bipart so I will remove the other values\n",
    "val_to_remove = [\"Bipartisan, but mostly Republican\", \"Bipartisan, but mostly Democratic\", \"Independent\"]\n",
    "\n",
    "ind_remove = donation_df[donation_df[\"Party\"].isin(val_to_remove)].index\n",
    "\n",
    "donation_df_filtered = donation_df.drop(ind_remove)\n",
    "\n",
    "#checking the Party column for changes\n",
    "print(\"The original DataFrame variables for the 'Party' column are:\")\n",
    "print(donation_df.Party.value_counts())\n",
    "\n",
    "print(\"\\n\\nThe new DataFrame variables for the 'Party' column are:\")\n",
    "print(donation_df_filtered.Party.value_counts())"
   ]
  },
  {
   "cell_type": "code",
   "execution_count": 16,
   "metadata": {},
   "outputs": [],
   "source": [
    "#donation_df_filtered name switch back to donation_df\n",
    "\n",
    "donation_df = donation_df_filtered"
   ]
  },
  {
   "cell_type": "markdown",
   "metadata": {},
   "source": [
    "#### 3b. Cleaning the **'Amount'** column\n",
    "##### *I noticed that the values have '$' and ',' so I need to take those out.*"
   ]
  },
  {
   "cell_type": "code",
   "execution_count": 17,
   "metadata": {},
   "outputs": [],
   "source": [
    "#stripping the $ and , symbol from Amount column and converting values to int \n",
    "\n",
    "#df_donate.loc needs to be used to avoid the \"settingwithcopy\" error\n",
    "\n",
    "donation_df.loc[:,'Amount'] = (donation_df['Amount'].str.replace('$', '')\n",
    "                             .str.replace(',', '')\n",
    "                             .astype(int))\n",
    "\n",
    "\n"
   ]
  },
  {
   "cell_type": "code",
   "execution_count": 18,
   "metadata": {},
   "outputs": [
    {
     "data": {
      "text/html": [
       "<div>\n",
       "<style scoped>\n",
       "    .dataframe tbody tr th:only-of-type {\n",
       "        vertical-align: middle;\n",
       "    }\n",
       "\n",
       "    .dataframe tbody tr th {\n",
       "        vertical-align: top;\n",
       "    }\n",
       "\n",
       "    .dataframe thead th {\n",
       "        text-align: right;\n",
       "    }\n",
       "</style>\n",
       "<table border=\"1\" class=\"dataframe\">\n",
       "  <thead>\n",
       "    <tr style=\"text-align: right;\">\n",
       "      <th></th>\n",
       "      <th>Owner</th>\n",
       "      <th>League</th>\n",
       "      <th>Amount</th>\n",
       "      <th>Party</th>\n",
       "    </tr>\n",
       "  </thead>\n",
       "  <tbody>\n",
       "    <tr>\n",
       "      <th>0</th>\n",
       "      <td>Adam Silver</td>\n",
       "      <td>NBA</td>\n",
       "      <td>4000</td>\n",
       "      <td>Democrat</td>\n",
       "    </tr>\n",
       "    <tr>\n",
       "      <th>1</th>\n",
       "      <td>Adam Silver</td>\n",
       "      <td>NBA</td>\n",
       "      <td>2800</td>\n",
       "      <td>Democrat</td>\n",
       "    </tr>\n",
       "    <tr>\n",
       "      <th>2</th>\n",
       "      <td>Adam Silver</td>\n",
       "      <td>NBA</td>\n",
       "      <td>2700</td>\n",
       "      <td>Democrat</td>\n",
       "    </tr>\n",
       "    <tr>\n",
       "      <th>3</th>\n",
       "      <td>Adam Silver</td>\n",
       "      <td>NBA</td>\n",
       "      <td>2700</td>\n",
       "      <td>Democrat</td>\n",
       "    </tr>\n",
       "    <tr>\n",
       "      <th>4</th>\n",
       "      <td>Adam Silver</td>\n",
       "      <td>NBA</td>\n",
       "      <td>2700</td>\n",
       "      <td>Democrat</td>\n",
       "    </tr>\n",
       "  </tbody>\n",
       "</table>\n",
       "</div>"
      ],
      "text/plain": [
       "         Owner League Amount     Party\n",
       "0  Adam Silver    NBA   4000  Democrat\n",
       "1  Adam Silver    NBA   2800  Democrat\n",
       "2  Adam Silver    NBA   2700  Democrat\n",
       "3  Adam Silver    NBA   2700  Democrat\n",
       "4  Adam Silver    NBA   2700  Democrat"
      ]
     },
     "execution_count": 18,
     "metadata": {},
     "output_type": "execute_result"
    }
   ],
   "source": [
    "#checking Amount column for changes \n",
    "donation_df.Amount\n",
    "\n",
    "donation_df.head()"
   ]
  },
  {
   "cell_type": "code",
   "execution_count": 19,
   "metadata": {},
   "outputs": [
    {
     "name": "stdout",
     "output_type": "stream",
     "text": [
      "<class 'pandas.core.frame.DataFrame'>\n",
      "Index: 2741 entries, 0 to 2797\n",
      "Data columns (total 4 columns):\n",
      " #   Column  Non-Null Count  Dtype \n",
      "---  ------  --------------  ----- \n",
      " 0   Owner   2741 non-null   object\n",
      " 1   League  2741 non-null   object\n",
      " 2   Amount  2741 non-null   object\n",
      " 3   Party   2741 non-null   object\n",
      "dtypes: object(4)\n",
      "memory usage: 107.1+ KB\n",
      "None\n"
     ]
    }
   ],
   "source": [
    "print(donation_df.info())"
   ]
  },
  {
   "cell_type": "code",
   "execution_count": 20,
   "metadata": {},
   "outputs": [
    {
     "data": {
      "text/html": [
       "<div>\n",
       "<style scoped>\n",
       "    .dataframe tbody tr th:only-of-type {\n",
       "        vertical-align: middle;\n",
       "    }\n",
       "\n",
       "    .dataframe tbody tr th {\n",
       "        vertical-align: top;\n",
       "    }\n",
       "\n",
       "    .dataframe thead th {\n",
       "        text-align: right;\n",
       "    }\n",
       "</style>\n",
       "<table border=\"1\" class=\"dataframe\">\n",
       "  <thead>\n",
       "    <tr style=\"text-align: right;\">\n",
       "      <th></th>\n",
       "      <th>Owner</th>\n",
       "      <th>League</th>\n",
       "      <th>Amount</th>\n",
       "      <th>Party</th>\n",
       "    </tr>\n",
       "  </thead>\n",
       "  <tbody>\n",
       "    <tr>\n",
       "      <th>1083</th>\n",
       "      <td>Jerry Reinsdorf</td>\n",
       "      <td>NBA, MLB</td>\n",
       "      <td>200000</td>\n",
       "      <td>Democrat</td>\n",
       "    </tr>\n",
       "    <tr>\n",
       "      <th>1085</th>\n",
       "      <td>Jerry Reinsdorf</td>\n",
       "      <td>NBA, MLB</td>\n",
       "      <td>200000</td>\n",
       "      <td>Republican</td>\n",
       "    </tr>\n",
       "    <tr>\n",
       "      <th>1086</th>\n",
       "      <td>Jerry Reinsdorf</td>\n",
       "      <td>NBA, MLB</td>\n",
       "      <td>100000</td>\n",
       "      <td>Democrat</td>\n",
       "    </tr>\n",
       "    <tr>\n",
       "      <th>1087</th>\n",
       "      <td>Jerry Reinsdorf</td>\n",
       "      <td>NBA, MLB</td>\n",
       "      <td>100000</td>\n",
       "      <td>Republican</td>\n",
       "    </tr>\n",
       "    <tr>\n",
       "      <th>1088</th>\n",
       "      <td>Jerry Reinsdorf</td>\n",
       "      <td>NBA, MLB</td>\n",
       "      <td>84000</td>\n",
       "      <td>Republican</td>\n",
       "    </tr>\n",
       "  </tbody>\n",
       "</table>\n",
       "</div>"
      ],
      "text/plain": [
       "                Owner    League  Amount       Party\n",
       "1083  Jerry Reinsdorf  NBA, MLB  200000    Democrat\n",
       "1085  Jerry Reinsdorf  NBA, MLB  200000  Republican\n",
       "1086  Jerry Reinsdorf  NBA, MLB  100000    Democrat\n",
       "1087  Jerry Reinsdorf  NBA, MLB  100000  Republican\n",
       "1088  Jerry Reinsdorf  NBA, MLB   84000  Republican"
      ]
     },
     "execution_count": 20,
     "metadata": {},
     "output_type": "execute_result"
    }
   ],
   "source": [
    "#looking at the different variables within the League column\n",
    "\n",
    "nba_mlb = [\"NBA, MLB\"]\n",
    "\n",
    "# Create a boolean mask using isin()\n",
    "mask = donation_df['League'].isin(nba_mlb)\n",
    "\n",
    "# Filter the DataFrame\n",
    "result = donation_df[mask]\n",
    "\n",
    "result.head()"
   ]
  },
  {
   "cell_type": "code",
   "execution_count": 21,
   "metadata": {},
   "outputs": [
    {
     "name": "stdout",
     "output_type": "stream",
     "text": [
      "The Owner with the most amount donated is \"Charles Johnson\" with $11000700 donated.\n",
      "\n",
      "The Owner with the least amount donated is \"Jerry Bruckheimer\" with $250 donated.\n"
     ]
    }
   ],
   "source": [
    "#find the owners who have donated the most amounts for all parties\n",
    "\n",
    "#group the owners by amount and sum the total amount \n",
    "owner_amount = donation_df.groupby('Owner')['Amount'].sum()\n",
    "\n",
    "#find the owner with the most amount least amount donated\n",
    "most_amount_owner = owner_amount.idxmax()\n",
    "most_amount = owner_amount.max()\n",
    "min_amount_owner = owner_amount.idxmin()\n",
    "min_amount = owner_amount.min()\n",
    "\n",
    "#print the result\n",
    "print(f'The Owner with the most amount donated is \"{most_amount_owner}\" with ${most_amount} donated.')\n",
    "print(f'\\nThe Owner with the least amount donated is \"{min_amount_owner}\" with ${min_amount} donated.')"
   ]
  },
  {
   "cell_type": "code",
   "execution_count": 22,
   "metadata": {},
   "outputs": [
    {
     "name": "stdout",
     "output_type": "stream",
     "text": [
      "Charles Johnson\n",
      "Jerry Bruckheimer\n"
     ]
    }
   ],
   "source": [
    "#create function to find the owner with the most/least donation amount in complete dataframe\n",
    "\n",
    "def max_donate(donation_df):\n",
    "    owner_donate = donation_df.groupby('Owner')['Amount'].sum()\n",
    "    result = owner_donate.idxmax()\n",
    "    return result\n",
    "\n",
    "print(max_donate(donation_df))\n",
    "\n",
    "def min_donate(donation_df):\n",
    "    owner_donate = donation_df.groupby('Owner')['Amount'].sum()\n",
    "    result = owner_donate.idxmin()\n",
    "    return result\n",
    "\n",
    "print(min_donate(donation_df))"
   ]
  },
  {
   "cell_type": "markdown",
   "metadata": {},
   "source": [
    "## 4. Creating seperate DataFrames for each Party"
   ]
  },
  {
   "cell_type": "markdown",
   "metadata": {},
   "source": [
    "### 4a. Democratic Party"
   ]
  },
  {
   "cell_type": "code",
   "execution_count": 23,
   "metadata": {},
   "outputs": [
    {
     "name": "stdout",
     "output_type": "stream",
     "text": [
      "['Democrat' 'Bipartisan' 'Republican']\n"
     ]
    },
    {
     "data": {
      "text/plain": [
       "League\n",
       "WNBA              210\n",
       "NBA               171\n",
       "MLB               162\n",
       "NFL                92\n",
       "NHL                87\n",
       "NBA, NFL           47\n",
       "NBA, WNBA          47\n",
       "NBA, NHL           38\n",
       "NBA, MLB           29\n",
       "NASCAR             19\n",
       "NBA, NHL, WNBA     15\n",
       "MLB, WNBA           3\n",
       "NBA, NFL, NHL       1\n",
       "Name: count, dtype: int64"
      ]
     },
     "execution_count": 23,
     "metadata": {},
     "output_type": "execute_result"
    }
   ],
   "source": [
    "#checking Party variables\n",
    "print(donation_df.Party.unique())\n",
    "\n",
    "\n",
    "#creating a seperate dataframe for the democratic donations\n",
    "\n",
    "df_dem = donation_df[donation_df[\"Party\"] == \"Democrat\"]\n",
    "\n",
    "df_dem[\"League\"].value_counts()\n"
   ]
  },
  {
   "cell_type": "code",
   "execution_count": 24,
   "metadata": {},
   "outputs": [
    {
     "name": "stdout",
     "output_type": "stream",
     "text": [
      "Peter Angelos\n",
      "Dean A. Spanos\n"
     ]
    }
   ],
   "source": [
    "#testing the max/min owner donatin function on the new dataframes\n",
    "\n",
    "#max donation function\n",
    "def dem_max_donate(df_dem):\n",
    "    owner_donate = df_dem.groupby('Owner')['Amount'].sum()\n",
    "    result = owner_donate.idxmax()\n",
    "    return result\n",
    "\n",
    "print(dem_max_donate(df_dem))\n",
    "\n",
    "#min donation function\n",
    "def dem_min_donate(df_dem):\n",
    "    owner_donate = df_dem.groupby('Owner')['Amount'].sum()\n",
    "    result = owner_donate.idxmin()\n",
    "    return result\n",
    "\n",
    "print(dem_min_donate(df_dem))"
   ]
  },
  {
   "cell_type": "code",
   "execution_count": 25,
   "metadata": {},
   "outputs": [
    {
     "data": {
      "text/plain": [
       "array(['NBA', 'MLB', 'NHL', 'NASCAR', 'NFL', 'WNBA', 'NBA, NHL',\n",
       "       'NBA, NFL, NHL', 'NBA, WNBA', 'NBA, MLB', 'NBA, NFL', 'MLB, WNBA',\n",
       "       'NBA, NHL, WNBA'], dtype=object)"
      ]
     },
     "execution_count": 25,
     "metadata": {},
     "output_type": "execute_result"
    }
   ],
   "source": [
    "df_dem.League.unique()"
   ]
  },
  {
   "cell_type": "code",
   "execution_count": 26,
   "metadata": {},
   "outputs": [
    {
     "name": "stdout",
     "output_type": "stream",
     "text": [
      "Owner\n",
      "Peter Angelos      2082772\n",
      "Laura Ricketts     1715424\n",
      "John Rogers         661650\n",
      "Ron Burkle          639300\n",
      "Jerry Reinsdorf     410100\n",
      "Name: Amount, dtype: object\n"
     ]
    }
   ],
   "source": [
    "#find the top donors for the Dem party\n",
    "dem_owners = df_dem.groupby('Owner')['Amount'].sum()\n",
    "\n",
    "dem_owners = dem_owners.sort_values(ascending=False)\n",
    "dem_owners.head(5)\n",
    "\n",
    "print(dem_owners.head())"
   ]
  },
  {
   "cell_type": "code",
   "execution_count": 27,
   "metadata": {},
   "outputs": [
    {
     "name": "stdout",
     "output_type": "stream",
     "text": [
      "Owner\n",
      "Andrew Murstein    1000\n",
      "Jeff Dickerson      650\n",
      "Harvey Alter        500\n",
      "Wyc Grousbeck       500\n",
      "Dean A. Spanos      250\n",
      "Name: Amount, dtype: object\n"
     ]
    }
   ],
   "source": [
    "print(dem_owners.tail(5))"
   ]
  },
  {
   "cell_type": "code",
   "execution_count": 28,
   "metadata": {},
   "outputs": [
    {
     "name": "stderr",
     "output_type": "stream",
     "text": [
      "C:\\Users\\pwurt\\AppData\\Local\\Temp\\ipykernel_31356\\651244572.py:3: SettingWithCopyWarning: \n",
      "A value is trying to be set on a copy of a slice from a DataFrame.\n",
      "Try using .loc[row_indexer,col_indexer] = value instead\n",
      "\n",
      "See the caveats in the documentation: https://pandas.pydata.org/pandas-docs/stable/user_guide/indexing.html#returning-a-view-versus-a-copy\n",
      "  df_dem['index'] = np.arange(len(df_dem))\n"
     ]
    },
    {
     "data": {
      "text/plain": [
       "750000"
      ]
     },
     "execution_count": 28,
     "metadata": {},
     "output_type": "execute_result"
    }
   ],
   "source": [
    "#sort_value method is combining two seperate rows into one row. I am going to try to seperate\n",
    "\n",
    "df_dem['index'] = np.arange(len(df_dem))\n",
    "    \n",
    "# Sort by 'col1' and then by 'index'\n",
    "df_sorted = df_dem.sort_values(by=['Owner', 'index'])\n",
    "    \n",
    "# Reset index\n",
    "df_sorted = df_sorted.drop(columns=['index']).reset_index(drop=True)\n",
    "\n",
    "df_sorted.Amount.max()\n"
   ]
  },
  {
   "cell_type": "code",
   "execution_count": 29,
   "metadata": {},
   "outputs": [
    {
     "data": {
      "text/html": [
       "<div>\n",
       "<style scoped>\n",
       "    .dataframe tbody tr th:only-of-type {\n",
       "        vertical-align: middle;\n",
       "    }\n",
       "\n",
       "    .dataframe tbody tr th {\n",
       "        vertical-align: top;\n",
       "    }\n",
       "\n",
       "    .dataframe thead th {\n",
       "        text-align: right;\n",
       "    }\n",
       "</style>\n",
       "<table border=\"1\" class=\"dataframe\">\n",
       "  <thead>\n",
       "    <tr style=\"text-align: right;\">\n",
       "      <th></th>\n",
       "      <th>Owner</th>\n",
       "      <th>League</th>\n",
       "      <th>Party</th>\n",
       "      <th>Amount</th>\n",
       "    </tr>\n",
       "  </thead>\n",
       "  <tbody>\n",
       "    <tr>\n",
       "      <th>70</th>\n",
       "      <td>Peter Angelos</td>\n",
       "      <td>MLB</td>\n",
       "      <td>Democrat</td>\n",
       "      <td>2082772</td>\n",
       "    </tr>\n",
       "    <tr>\n",
       "      <th>58</th>\n",
       "      <td>Laura Ricketts</td>\n",
       "      <td>MLB</td>\n",
       "      <td>Democrat</td>\n",
       "      <td>1715424</td>\n",
       "    </tr>\n",
       "    <tr>\n",
       "      <th>53</th>\n",
       "      <td>John Rogers</td>\n",
       "      <td>WNBA</td>\n",
       "      <td>Democrat</td>\n",
       "      <td>661650</td>\n",
       "    </tr>\n",
       "    <tr>\n",
       "      <th>80</th>\n",
       "      <td>Ron Burkle</td>\n",
       "      <td>NHL</td>\n",
       "      <td>Democrat</td>\n",
       "      <td>639300</td>\n",
       "    </tr>\n",
       "    <tr>\n",
       "      <th>45</th>\n",
       "      <td>Jerry Reinsdorf</td>\n",
       "      <td>NBA, MLB</td>\n",
       "      <td>Democrat</td>\n",
       "      <td>410100</td>\n",
       "    </tr>\n",
       "  </tbody>\n",
       "</table>\n",
       "</div>"
      ],
      "text/plain": [
       "              Owner    League     Party   Amount\n",
       "70    Peter Angelos       MLB  Democrat  2082772\n",
       "58   Laura Ricketts       MLB  Democrat  1715424\n",
       "53      John Rogers      WNBA  Democrat   661650\n",
       "80       Ron Burkle       NHL  Democrat   639300\n",
       "45  Jerry Reinsdorf  NBA, MLB  Democrat   410100"
      ]
     },
     "execution_count": 29,
     "metadata": {},
     "output_type": "execute_result"
    }
   ],
   "source": [
    "df_dem = df_sorted\n",
    "\n",
    "# Group by Owner League and Party then sum the specified columns\n",
    "top_five_dem = df_dem.groupby(['Owner','League', 'Party']).sum().reset_index()\n",
    "\n",
    "# Sort the entire DataFrame by 'Amount' in descending order\n",
    "top_five_dem = top_five_dem.sort_values(by='Amount', kind='sort', ascending=False)\n",
    "\n",
    "top_five_dem.head(5)\n",
    "\n",
    "df_dem = top_five_dem\n",
    "\n",
    "df_dem.head()"
   ]
  },
  {
   "cell_type": "markdown",
   "metadata": {},
   "source": [
    "### Sum, Mean, Median"
   ]
  },
  {
   "cell_type": "code",
   "execution_count": 30,
   "metadata": {},
   "outputs": [
    {
     "name": "stdout",
     "output_type": "stream",
     "text": [
      "The total Amount donated (USD) for the Democratic Party is $10113639.\n",
      "The mean amount is $101136.39.\n",
      "The median amount is $17837.5.\n"
     ]
    }
   ],
   "source": [
    "dem_amount_sum = df_dem['Amount'].sum()\n",
    "dem_amount_mean = df_dem['Amount'].mean().round(2)\n",
    "dem_amount_median = df_dem['Amount'].median()\n",
    "\n",
    "print(f'The total Amount donated (USD) for the Democratic Party is ${dem_amount_sum}.\\nThe mean amount is ${dem_amount_mean}.\\nThe median amount is ${dem_amount_median}.')"
   ]
  },
  {
   "cell_type": "code",
   "execution_count": 31,
   "metadata": {},
   "outputs": [
    {
     "data": {
      "text/html": [
       "<div>\n",
       "<style scoped>\n",
       "    .dataframe tbody tr th:only-of-type {\n",
       "        vertical-align: middle;\n",
       "    }\n",
       "\n",
       "    .dataframe tbody tr th {\n",
       "        vertical-align: top;\n",
       "    }\n",
       "\n",
       "    .dataframe thead th {\n",
       "        text-align: right;\n",
       "    }\n",
       "</style>\n",
       "<table border=\"1\" class=\"dataframe\">\n",
       "  <thead>\n",
       "    <tr style=\"text-align: right;\">\n",
       "      <th></th>\n",
       "      <th>Owner</th>\n",
       "      <th>League</th>\n",
       "      <th>Party</th>\n",
       "      <th>Amount</th>\n",
       "    </tr>\n",
       "  </thead>\n",
       "  <tbody>\n",
       "    <tr>\n",
       "      <th>70</th>\n",
       "      <td>Peter Angelos</td>\n",
       "      <td>MLB</td>\n",
       "      <td>Democrat</td>\n",
       "      <td>2082772</td>\n",
       "    </tr>\n",
       "    <tr>\n",
       "      <th>58</th>\n",
       "      <td>Laura Ricketts</td>\n",
       "      <td>MLB</td>\n",
       "      <td>Democrat</td>\n",
       "      <td>1715424</td>\n",
       "    </tr>\n",
       "    <tr>\n",
       "      <th>53</th>\n",
       "      <td>John Rogers</td>\n",
       "      <td>WNBA</td>\n",
       "      <td>Democrat</td>\n",
       "      <td>661650</td>\n",
       "    </tr>\n",
       "    <tr>\n",
       "      <th>80</th>\n",
       "      <td>Ron Burkle</td>\n",
       "      <td>NHL</td>\n",
       "      <td>Democrat</td>\n",
       "      <td>639300</td>\n",
       "    </tr>\n",
       "    <tr>\n",
       "      <th>45</th>\n",
       "      <td>Jerry Reinsdorf</td>\n",
       "      <td>NBA, MLB</td>\n",
       "      <td>Democrat</td>\n",
       "      <td>410100</td>\n",
       "    </tr>\n",
       "  </tbody>\n",
       "</table>\n",
       "</div>"
      ],
      "text/plain": [
       "              Owner    League     Party   Amount\n",
       "70    Peter Angelos       MLB  Democrat  2082772\n",
       "58   Laura Ricketts       MLB  Democrat  1715424\n",
       "53      John Rogers      WNBA  Democrat   661650\n",
       "80       Ron Burkle       NHL  Democrat   639300\n",
       "45  Jerry Reinsdorf  NBA, MLB  Democrat   410100"
      ]
     },
     "execution_count": 31,
     "metadata": {},
     "output_type": "execute_result"
    }
   ],
   "source": [
    "#create function to sort the top donors to the Democratic party\n",
    "def top_dems(df_dem):\n",
    "    # Group by Category and State and sum the specified columns\n",
    "    top_ten_dem = df_sorted.groupby(['Owner','League', 'Party']).sum().reset_index()\n",
    "    # Sort the entire DataFrame by 'Usd Pledged Real' in descending order\n",
    "    top_ten_dem = top_ten_dem.sort_values(by='Amount', kind='sort', ascending=False)\n",
    "    return top_ten_dem\n",
    "\n",
    "top_dems(df_dem).head()\n",
    "    "
   ]
  },
  {
   "cell_type": "markdown",
   "metadata": {},
   "source": [
    "## **Create Bar graph for the democratic donors**"
   ]
  },
  {
   "cell_type": "code",
   "execution_count": 32,
   "metadata": {},
   "outputs": [
    {
     "data": {
      "image/png": "[encoded data removed]",
      "text/plain": [
       "<Figure size 1000x600 with 1 Axes>"
      ]
     },
     "metadata": {},
     "output_type": "display_data"
    }
   ],
   "source": [
    "import matplotlib\n",
    "import matplotlib.pyplot as plt\n",
    "from matplotlib.ticker import FuncFormatter\n",
    "\n",
    "#change type of Amount column\n",
    "df_dem['Amount'] = pd.to_numeric(df_dem['Amount'], errors='coerce')\n",
    "\n",
    "# Step 1: Extract Data\n",
    "# Replace these with your actual DataFrame columns\n",
    "top_5_owners = df_dem.groupby('Owner')['Amount'].sum().nlargest(5)\n",
    "\n",
    "# Step 2: Create the Plot\n",
    "plt.figure(figsize=(10, 6))\n",
    "plt.bar(top_5_owners.index, top_5_owners.values, color='blue')\n",
    "\n",
    "#add text to amount donated by the highest donor\n",
    "plt.text(0, top_5_owners.values[0], f'{top_5_owners.values[0]:,.0f}', \n",
    "         ha='center', va='bottom', fontsize=12, color='black')\n",
    "\n",
    "\n",
    "\n",
    "# Step 3: Rotate x-axis labels\n",
    "plt.xticks(rotation=90)\n",
    "\n",
    "# Step 4: Add Title and Labels\n",
    "plt.title('Top 5 American Sport Team Donors for the Democratic Party (2016-2020)')  # Title of the plot\n",
    "plt.xlabel('Owners')  # Label for x-axis\n",
    "plt.ylabel('Amount of Money Donated (USD)')  # Label for y-axis\n",
    "\n",
    "# Step 5: Optional - Add Gridlines\n",
    "# Uncomment the following line if you want to add gridlines\n",
    "# plt.grid(True, which='both', axis='y', linestyle='--', linewidth=0.7)\n",
    "\n",
    "# Step 6: Adjust Layout\n",
    "plt.gca().yaxis.set_major_formatter(FuncFormatter(lambda x, _: f'{x:,.0f}'))\n",
    "plt.tight_layout()  # Adjust layout to avoid overlap\n",
    "\n",
    "# Step 7: Show the Plot\n",
    "plt.show()\n"
   ]
  },
  {
   "cell_type": "markdown",
   "metadata": {},
   "source": [
    "### 4b. Republican Party"
   ]
  },
  {
   "cell_type": "code",
   "execution_count": 33,
   "metadata": {},
   "outputs": [
    {
     "name": "stdout",
     "output_type": "stream",
     "text": [
      "                       Owner  League Amount       Party\n",
      "2757            Tony Ressler     NBA   2000  Republican\n",
      "2758           Troy Stafford  NASCAR    250  Republican\n",
      "2767  W. Joseph Williams Jr.     MLB   5400  Republican\n",
      "2768  W. Joseph Williams Jr.     MLB   5100  Republican\n",
      "2769  W. Joseph Williams Jr.     MLB   5000  Republican\n",
      "2770  W. Joseph Williams Jr.     MLB   2500  Republican\n",
      "2771  W. Joseph Williams Jr.     MLB   2000  Republican\n",
      "2772  W. Joseph Williams Jr.     MLB   1500  Republican\n",
      "2774  W. Joseph Williams Jr.     MLB   1000  Republican\n",
      "2776  W. Joseph Williams Jr.     MLB    400  Republican\n"
     ]
    }
   ],
   "source": [
    "#creating a seperate df for the republican donations \n",
    "\n",
    "df_rep = donation_df[donation_df[\"Party\"] == \"Republican\"]\n",
    "\n",
    "df_rep.head(20)\n",
    "print(df_rep.tail(10))\n"
   ]
  },
  {
   "cell_type": "code",
   "execution_count": 34,
   "metadata": {},
   "outputs": [
    {
     "name": "stdout",
     "output_type": "stream",
     "text": [
      "Owner\n",
      "Charles Johnson           10995500\n",
      "Dan DeVos                  2280400\n",
      "Philip F. Anschutz         1776700\n",
      "Jimmy and Susan Haslam     1596900\n",
      "Dan Gilbert                1479700\n",
      "Name: Amount, dtype: object\n"
     ]
    }
   ],
   "source": [
    "#find the top donors for the Rep party\n",
    "rep_owners = df_rep.groupby('Owner')['Amount'].sum()\n",
    "\n",
    "rep_owners = rep_owners.sort_values(ascending=False)\n",
    "rep_owners.head(5)\n",
    "\n",
    "print(rep_owners.head())"
   ]
  },
  {
   "cell_type": "code",
   "execution_count": 35,
   "metadata": {},
   "outputs": [
    {
     "data": {
      "text/html": [
       "<div>\n",
       "<style scoped>\n",
       "    .dataframe tbody tr th:only-of-type {\n",
       "        vertical-align: middle;\n",
       "    }\n",
       "\n",
       "    .dataframe tbody tr th {\n",
       "        vertical-align: top;\n",
       "    }\n",
       "\n",
       "    .dataframe thead th {\n",
       "        text-align: right;\n",
       "    }\n",
       "</style>\n",
       "<table border=\"1\" class=\"dataframe\">\n",
       "  <thead>\n",
       "    <tr style=\"text-align: right;\">\n",
       "      <th></th>\n",
       "      <th>Owner</th>\n",
       "      <th>League</th>\n",
       "      <th>Party</th>\n",
       "      <th>Amount</th>\n",
       "    </tr>\n",
       "  </thead>\n",
       "  <tbody>\n",
       "    <tr>\n",
       "      <th>11</th>\n",
       "      <td>Charles Johnson</td>\n",
       "      <td>MLB</td>\n",
       "      <td>Republican</td>\n",
       "      <td>10995500</td>\n",
       "    </tr>\n",
       "    <tr>\n",
       "      <th>20</th>\n",
       "      <td>Dan DeVos</td>\n",
       "      <td>NBA</td>\n",
       "      <td>Republican</td>\n",
       "      <td>2280400</td>\n",
       "    </tr>\n",
       "    <tr>\n",
       "      <th>74</th>\n",
       "      <td>Philip F. Anschutz</td>\n",
       "      <td>NHL</td>\n",
       "      <td>Republican</td>\n",
       "      <td>1776700</td>\n",
       "    </tr>\n",
       "    <tr>\n",
       "      <th>49</th>\n",
       "      <td>Jimmy and Susan Haslam</td>\n",
       "      <td>NFL</td>\n",
       "      <td>Republican</td>\n",
       "      <td>1596900</td>\n",
       "    </tr>\n",
       "    <tr>\n",
       "      <th>21</th>\n",
       "      <td>Dan Gilbert</td>\n",
       "      <td>NBA</td>\n",
       "      <td>Republican</td>\n",
       "      <td>1479700</td>\n",
       "    </tr>\n",
       "  </tbody>\n",
       "</table>\n",
       "</div>"
      ],
      "text/plain": [
       "                     Owner League       Party    Amount\n",
       "11         Charles Johnson    MLB  Republican  10995500\n",
       "20               Dan DeVos    NBA  Republican   2280400\n",
       "74      Philip F. Anschutz    NHL  Republican   1776700\n",
       "49  Jimmy and Susan Haslam    NFL  Republican   1596900\n",
       "21             Dan Gilbert    NBA  Republican   1479700"
      ]
     },
     "execution_count": 35,
     "metadata": {},
     "output_type": "execute_result"
    }
   ],
   "source": [
    "# Group by Owner League and Party then sum the specified columns\n",
    "top_five_rep = df_rep.groupby(['Owner','League', 'Party']).sum().reset_index()\n",
    "\n",
    "# Sort the entire DataFrame by 'Amount' in descending order\n",
    "top_five_rep = top_five_rep.sort_values(by='Amount', kind='sort', ascending=False)\n",
    "\n",
    "top_five_rep.head(5)\n",
    "\n",
    "df_rep = top_five_rep\n",
    "\n",
    "df_rep.head()"
   ]
  },
  {
   "cell_type": "code",
   "execution_count": 36,
   "metadata": {},
   "outputs": [
    {
     "data": {
      "text/html": [
       "<div>\n",
       "<style scoped>\n",
       "    .dataframe tbody tr th:only-of-type {\n",
       "        vertical-align: middle;\n",
       "    }\n",
       "\n",
       "    .dataframe tbody tr th {\n",
       "        vertical-align: top;\n",
       "    }\n",
       "\n",
       "    .dataframe thead th {\n",
       "        text-align: right;\n",
       "    }\n",
       "</style>\n",
       "<table border=\"1\" class=\"dataframe\">\n",
       "  <thead>\n",
       "    <tr style=\"text-align: right;\">\n",
       "      <th></th>\n",
       "      <th>Owner</th>\n",
       "      <th>League</th>\n",
       "      <th>Party</th>\n",
       "      <th>Amount</th>\n",
       "    </tr>\n",
       "  </thead>\n",
       "  <tbody>\n",
       "    <tr>\n",
       "      <th>1</th>\n",
       "      <td>Andrew Murstein</td>\n",
       "      <td>NASCAR</td>\n",
       "      <td>Republican</td>\n",
       "      <td>1000</td>\n",
       "    </tr>\n",
       "    <tr>\n",
       "      <th>54</th>\n",
       "      <td>John Mara</td>\n",
       "      <td>NFL</td>\n",
       "      <td>Republican</td>\n",
       "      <td>1000</td>\n",
       "    </tr>\n",
       "    <tr>\n",
       "      <th>78</th>\n",
       "      <td>Richard Petty</td>\n",
       "      <td>NASCAR</td>\n",
       "      <td>Republican</td>\n",
       "      <td>1000</td>\n",
       "    </tr>\n",
       "    <tr>\n",
       "      <th>46</th>\n",
       "      <td>Jerry Bruckheimer</td>\n",
       "      <td>NHL</td>\n",
       "      <td>Republican</td>\n",
       "      <td>250</td>\n",
       "    </tr>\n",
       "    <tr>\n",
       "      <th>102</th>\n",
       "      <td>Troy Stafford</td>\n",
       "      <td>NASCAR</td>\n",
       "      <td>Republican</td>\n",
       "      <td>250</td>\n",
       "    </tr>\n",
       "  </tbody>\n",
       "</table>\n",
       "</div>"
      ],
      "text/plain": [
       "                 Owner  League       Party Amount\n",
       "1      Andrew Murstein  NASCAR  Republican   1000\n",
       "54           John Mara     NFL  Republican   1000\n",
       "78       Richard Petty  NASCAR  Republican   1000\n",
       "46   Jerry Bruckheimer     NHL  Republican    250\n",
       "102      Troy Stafford  NASCAR  Republican    250"
      ]
     },
     "execution_count": 36,
     "metadata": {},
     "output_type": "execute_result"
    }
   ],
   "source": [
    "df_rep.tail()"
   ]
  },
  {
   "cell_type": "markdown",
   "metadata": {},
   "source": [
    "## Sum, Mean, Median"
   ]
  },
  {
   "cell_type": "code",
   "execution_count": 37,
   "metadata": {},
   "outputs": [
    {
     "name": "stdout",
     "output_type": "stream",
     "text": [
      "The total Amount donated (USD) for the Republican Party is $34246016.\n",
      "The mean amount is $329288.62.\n",
      "The median amount is $41429.0.\n"
     ]
    }
   ],
   "source": [
    "rep_amount_sum = df_rep['Amount'].sum()\n",
    "rep_amount_mean = df_rep['Amount'].mean().round(2)\n",
    "rep_amount_median = df_rep['Amount'].median()\n",
    "\n",
    "print(f'The total Amount donated (USD) for the Republican Party is ${rep_amount_sum}.\\nThe mean amount is ${rep_amount_mean}.\\nThe median amount is ${rep_amount_median}.')"
   ]
  },
  {
   "cell_type": "code",
   "execution_count": 38,
   "metadata": {},
   "outputs": [],
   "source": [
    "#change type of Amount column\n",
    "df_rep['Amount'] = pd.to_numeric(df_rep['Amount'], errors='coerce')"
   ]
  },
  {
   "cell_type": "markdown",
   "metadata": {},
   "source": [
    "## **Create a bar graph for the Republican Party**"
   ]
  },
  {
   "cell_type": "code",
   "execution_count": 39,
   "metadata": {},
   "outputs": [
    {
     "data": {
      "image/png": "[encoded data removed]",
      "text/plain": [
       "<Figure size 1000x600 with 1 Axes>"
      ]
     },
     "metadata": {},
     "output_type": "display_data"
    }
   ],
   "source": [
    "import matplotlib\n",
    "import matplotlib.pyplot as plt\n",
    "from matplotlib.ticker import FuncFormatter\n",
    "\n",
    "df_rep['Amount'] = pd.to_numeric(df_rep['Amount'], errors='coerce')\n",
    "\n",
    "# Step 1: Extract Data\n",
    "# Replace these with your actual DataFrame columns\n",
    "top_5_owners_rep = df_rep.groupby('Owner')['Amount'].sum().nlargest(5)\n",
    "\n",
    "# Step 2: Create the Plot\n",
    "plt.figure(figsize=(10, 6))\n",
    "plt.bar(top_5_owners_rep.index, top_5_owners_rep.values, color='red')\n",
    "\n",
    "#add text to amount donated by the highest donor\n",
    "plt.text(0, top_5_owners_rep.values[0], f'{top_5_owners_rep.values[0]:,.0f}', \n",
    "         ha='center', va='bottom', fontsize=12, color='black')\n",
    "\n",
    "\n",
    "\n",
    "# Step 3: Rotate x-axis labels\n",
    "plt.xticks(rotation=90)\n",
    "\n",
    "# Step 4: Add Title and Labels\n",
    "plt.title('Top 5 American Sport Team Donors for the Republican Party (2016-2020)')  # Title of the plot\n",
    "plt.xlabel('Owners')  # Label for x-axis\n",
    "plt.ylabel('Amount of Money Donated (USD)')  # Label for y-axis\n",
    "\n",
    "# Step 5: Optional - Add Gridlines\n",
    "# Uncomment the following line if you want to add gridlines\n",
    "# plt.grid(True, which='both', axis='y', linestyle='--', linewidth=0.7)\n",
    "\n",
    "# Step 6: Adjust Layout\n",
    "plt.gca().yaxis.set_major_formatter(FuncFormatter(lambda x, _: f'{x:,.0f}'))\n",
    "plt.tight_layout()  # Adjust layout to avoid overlap\n",
    "\n",
    "# Step 7: Show the Plot\n",
    "plt.show()\n"
   ]
  },
  {
   "cell_type": "markdown",
   "metadata": {},
   "source": [
    "### 4c. Bipartisan Party"
   ]
  },
  {
   "cell_type": "code",
   "execution_count": 40,
   "metadata": {},
   "outputs": [
    {
     "name": "stdout",
     "output_type": "stream",
     "text": [
      "<class 'pandas.core.frame.DataFrame'>\n",
      "Index: 195 entries, 17 to 2790\n",
      "Data columns (total 4 columns):\n",
      " #   Column  Non-Null Count  Dtype \n",
      "---  ------  --------------  ----- \n",
      " 0   Owner   195 non-null    object\n",
      " 1   League  195 non-null    object\n",
      " 2   Amount  195 non-null    object\n",
      " 3   Party   195 non-null    object\n",
      "dtypes: object(4)\n",
      "memory usage: 7.6+ KB\n",
      "None\n"
     ]
    },
    {
     "data": {
      "text/html": [
       "<div>\n",
       "<style scoped>\n",
       "    .dataframe tbody tr th:only-of-type {\n",
       "        vertical-align: middle;\n",
       "    }\n",
       "\n",
       "    .dataframe tbody tr th {\n",
       "        vertical-align: top;\n",
       "    }\n",
       "\n",
       "    .dataframe thead th {\n",
       "        text-align: right;\n",
       "    }\n",
       "</style>\n",
       "<table border=\"1\" class=\"dataframe\">\n",
       "  <thead>\n",
       "    <tr style=\"text-align: right;\">\n",
       "      <th></th>\n",
       "      <th>Owner</th>\n",
       "      <th>League</th>\n",
       "      <th>Amount</th>\n",
       "      <th>Party</th>\n",
       "    </tr>\n",
       "  </thead>\n",
       "  <tbody>\n",
       "    <tr>\n",
       "      <th>17</th>\n",
       "      <td>Amy Adams Strunk</td>\n",
       "      <td>NFL</td>\n",
       "      <td>10000</td>\n",
       "      <td>Bipartisan</td>\n",
       "    </tr>\n",
       "    <tr>\n",
       "      <th>18</th>\n",
       "      <td>Amy Adams Strunk</td>\n",
       "      <td>NFL</td>\n",
       "      <td>10000</td>\n",
       "      <td>Bipartisan</td>\n",
       "    </tr>\n",
       "    <tr>\n",
       "      <th>19</th>\n",
       "      <td>Amy Adams Strunk</td>\n",
       "      <td>NFL</td>\n",
       "      <td>5000</td>\n",
       "      <td>Bipartisan</td>\n",
       "    </tr>\n",
       "    <tr>\n",
       "      <th>25</th>\n",
       "      <td>Arte Moreno</td>\n",
       "      <td>MLB</td>\n",
       "      <td>10000</td>\n",
       "      <td>Bipartisan</td>\n",
       "    </tr>\n",
       "    <tr>\n",
       "      <th>26</th>\n",
       "      <td>Arte Moreno</td>\n",
       "      <td>MLB</td>\n",
       "      <td>10000</td>\n",
       "      <td>Bipartisan</td>\n",
       "    </tr>\n",
       "  </tbody>\n",
       "</table>\n",
       "</div>"
      ],
      "text/plain": [
       "               Owner League Amount       Party\n",
       "17  Amy Adams Strunk    NFL  10000  Bipartisan\n",
       "18  Amy Adams Strunk    NFL  10000  Bipartisan\n",
       "19  Amy Adams Strunk    NFL   5000  Bipartisan\n",
       "25       Arte Moreno    MLB  10000  Bipartisan\n",
       "26       Arte Moreno    MLB  10000  Bipartisan"
      ]
     },
     "execution_count": 40,
     "metadata": {},
     "output_type": "execute_result"
    }
   ],
   "source": [
    "#creating a variable for all of the bipartisan donations\n",
    "df_bipart = donation_df[donation_df[\"Party\"] == \"Bipartisan\"]\n",
    "\n",
    "print(df_bipart.info())\n",
    "\n",
    "df_bipart.head()"
   ]
  },
  {
   "cell_type": "code",
   "execution_count": 41,
   "metadata": {},
   "outputs": [
    {
     "data": {
      "text/plain": [
       "Owner\n",
       "Jimmy and Susan Haslam                   95000\n",
       "Jeremy M. Jacobs and Jerry Jacobs Jr.    65000\n",
       "Arthur J. Rooney II                      56000\n",
       "Rocky Wirtz                              50000\n",
       "Richard Childress                        35000\n",
       "Name: Amount, dtype: object"
      ]
     },
     "execution_count": 41,
     "metadata": {},
     "output_type": "execute_result"
    }
   ],
   "source": [
    "#find the top donors for the Rep party\n",
    "bipart_owners = df_bipart.groupby('Owner')['Amount'].sum()\n",
    "\n",
    "bipart_owners = bipart_owners.sort_values(ascending=False)\n",
    "\n",
    "bipart_owners.head()\n"
   ]
  },
  {
   "cell_type": "code",
   "execution_count": 42,
   "metadata": {},
   "outputs": [
    {
     "data": {
      "text/html": [
       "<div>\n",
       "<style scoped>\n",
       "    .dataframe tbody tr th:only-of-type {\n",
       "        vertical-align: middle;\n",
       "    }\n",
       "\n",
       "    .dataframe tbody tr th {\n",
       "        vertical-align: top;\n",
       "    }\n",
       "\n",
       "    .dataframe thead th {\n",
       "        text-align: right;\n",
       "    }\n",
       "</style>\n",
       "<table border=\"1\" class=\"dataframe\">\n",
       "  <thead>\n",
       "    <tr style=\"text-align: right;\">\n",
       "      <th></th>\n",
       "      <th>Owner</th>\n",
       "      <th>League</th>\n",
       "      <th>Party</th>\n",
       "      <th>Amount</th>\n",
       "    </tr>\n",
       "  </thead>\n",
       "  <tbody>\n",
       "    <tr>\n",
       "      <th>36</th>\n",
       "      <td>Jimmy and Susan Haslam</td>\n",
       "      <td>NFL</td>\n",
       "      <td>Bipartisan</td>\n",
       "      <td>95000</td>\n",
       "    </tr>\n",
       "    <tr>\n",
       "      <th>31</th>\n",
       "      <td>Jeremy M. Jacobs and Jerry Jacobs Jr.</td>\n",
       "      <td>NHL</td>\n",
       "      <td>Bipartisan</td>\n",
       "      <td>65000</td>\n",
       "    </tr>\n",
       "    <tr>\n",
       "      <th>3</th>\n",
       "      <td>Arthur J. Rooney II</td>\n",
       "      <td>NFL</td>\n",
       "      <td>Bipartisan</td>\n",
       "      <td>56000</td>\n",
       "    </tr>\n",
       "    <tr>\n",
       "      <th>61</th>\n",
       "      <td>Rocky Wirtz</td>\n",
       "      <td>NHL</td>\n",
       "      <td>Bipartisan</td>\n",
       "      <td>50000</td>\n",
       "    </tr>\n",
       "    <tr>\n",
       "      <th>49</th>\n",
       "      <td>Mark H. Murphy (Executive Committee)</td>\n",
       "      <td>NFL</td>\n",
       "      <td>Bipartisan</td>\n",
       "      <td>35000</td>\n",
       "    </tr>\n",
       "    <tr>\n",
       "      <th>...</th>\n",
       "      <td>...</td>\n",
       "      <td>...</td>\n",
       "      <td>...</td>\n",
       "      <td>...</td>\n",
       "    </tr>\n",
       "    <tr>\n",
       "      <th>70</th>\n",
       "      <td>Terry Pegula</td>\n",
       "      <td>NHL, NFL</td>\n",
       "      <td>Bipartisan</td>\n",
       "      <td>5000</td>\n",
       "    </tr>\n",
       "    <tr>\n",
       "      <th>9</th>\n",
       "      <td>Cathy Engelbert</td>\n",
       "      <td>WNBA</td>\n",
       "      <td>Bipartisan</td>\n",
       "      <td>3750</td>\n",
       "    </tr>\n",
       "    <tr>\n",
       "      <th>22</th>\n",
       "      <td>Gail Miller</td>\n",
       "      <td>NBA</td>\n",
       "      <td>Bipartisan</td>\n",
       "      <td>2000</td>\n",
       "    </tr>\n",
       "    <tr>\n",
       "      <th>25</th>\n",
       "      <td>Henry and Susan Samueli</td>\n",
       "      <td>NHL</td>\n",
       "      <td>Bipartisan</td>\n",
       "      <td>2000</td>\n",
       "    </tr>\n",
       "    <tr>\n",
       "      <th>53</th>\n",
       "      <td>Neil Leibman</td>\n",
       "      <td>MLB</td>\n",
       "      <td>Bipartisan</td>\n",
       "      <td>1000</td>\n",
       "    </tr>\n",
       "  </tbody>\n",
       "</table>\n",
       "<p>76 rows × 4 columns</p>\n",
       "</div>"
      ],
      "text/plain": [
       "                                    Owner    League       Party Amount\n",
       "36                 Jimmy and Susan Haslam       NFL  Bipartisan  95000\n",
       "31  Jeremy M. Jacobs and Jerry Jacobs Jr.       NHL  Bipartisan  65000\n",
       "3                     Arthur J. Rooney II       NFL  Bipartisan  56000\n",
       "61                            Rocky Wirtz       NHL  Bipartisan  50000\n",
       "49   Mark H. Murphy (Executive Committee)       NFL  Bipartisan  35000\n",
       "..                                    ...       ...         ...    ...\n",
       "70                           Terry Pegula  NHL, NFL  Bipartisan   5000\n",
       "9                         Cathy Engelbert      WNBA  Bipartisan   3750\n",
       "22                            Gail Miller       NBA  Bipartisan   2000\n",
       "25                Henry and Susan Samueli       NHL  Bipartisan   2000\n",
       "53                           Neil Leibman       MLB  Bipartisan   1000\n",
       "\n",
       "[76 rows x 4 columns]"
      ]
     },
     "execution_count": 42,
     "metadata": {},
     "output_type": "execute_result"
    }
   ],
   "source": [
    "# Group by Owner League and Party then sum the specified columns\n",
    "top_five_bipart = df_bipart.groupby(['Owner','League', 'Party']).sum().reset_index()\n",
    "\n",
    "# Sort the entire DataFrame by 'Amount' in descending order\n",
    "top_five_bipart = top_five_bipart.sort_values(by='Amount', kind='sort', ascending=False)\n",
    "\n",
    "top_five_bipart.head(5)\n",
    "\n",
    "df_bipart = top_five_bipart\n",
    "\n",
    "df_bipart"
   ]
  },
  {
   "cell_type": "code",
   "execution_count": 45,
   "metadata": {},
   "outputs": [
    {
     "name": "stdout",
     "output_type": "stream",
     "text": [
      "The total Amount donated (USD) for the Bipartisan Party is $1474699.\n",
      "The mean amount is $19403.93.\n",
      "The median amount is $16666.5.\n"
     ]
    }
   ],
   "source": [
    "bipart_amount_sum = df_bipart['Amount'].sum()\n",
    "bipart_amount_mean = df_bipart['Amount'].mean().round(2)\n",
    "bipart_amount_median = df_bipart['Amount'].median()\n",
    "\n",
    "print(f'The total Amount donated (USD) for the Bipartisan Party is ${bipart_amount_sum}.\\nThe mean amount is ${bipart_amount_mean}.\\nThe median amount is ${bipart_amount_median}.')"
   ]
  },
  {
   "cell_type": "markdown",
   "metadata": {},
   "source": [
    "## **Create a bar graph for the Bipartisan Party**"
   ]
  },
  {
   "cell_type": "code",
   "execution_count": 44,
   "metadata": {},
   "outputs": [
    {
     "data": {
      "image/png": "[encoded data removed]",
      "text/plain": [
       "<Figure size 1000x600 with 1 Axes>"
      ]
     },
     "metadata": {},
     "output_type": "display_data"
    }
   ],
   "source": [
    "import matplotlib\n",
    "import matplotlib.pyplot as plt\n",
    "from matplotlib.ticker import FuncFormatter\n",
    "\n",
    "#change type of Amount column\n",
    "df_bipart['Amount'] = pd.to_numeric(df_bipart['Amount'], errors='coerce')\n",
    "\n",
    "\n",
    "# Step 1: Extract Data\n",
    "# Replace these with your actual DataFrame columns\n",
    "top_5_owners_bipart = df_bipart.groupby('Owner')['Amount'].sum().nlargest(5)\n",
    "\n",
    "# Step 2: Create the Plot\n",
    "plt.figure(figsize=(10, 6))\n",
    "plt.bar(top_5_owners_bipart.index, top_5_owners_bipart.values, color='green')\n",
    "\n",
    "#add text to amount donated by the highest donor\n",
    "plt.text(0, top_5_owners_bipart.values[0], f'{top_5_owners_bipart.values[0]:,.0f}', \n",
    "         ha='center', va='bottom', fontsize=12, color='black')\n",
    "\n",
    "\n",
    "\n",
    "# Step 3: Rotate x-axis labels\n",
    "plt.xticks(rotation=90)\n",
    "\n",
    "# Step 4: Add Title and Labels\n",
    "plt.title('Top 5 American Sport Team Donors for the Bipartisan Party (2016-2020)')  # Title of the plot\n",
    "plt.xlabel('Owners')  # Label for x-axis\n",
    "plt.ylabel('Amount of Money Donated (USD)')  # Label for y-axis\n",
    "\n",
    "# Step 5: Optional - Add Gridlines\n",
    "# Uncomment the following line if you want to add gridlines\n",
    "# plt.grid(True, which='both', axis='y', linestyle='--', linewidth=0.7)\n",
    "\n",
    "# Step 6: Adjust Layout\n",
    "plt.gca().yaxis.set_major_formatter(FuncFormatter(lambda x, _: f'{x:,.0f}'))\n",
    "plt.tight_layout()  # Adjust layout to avoid overlap\n",
    "\n",
    "# Step 7: Show the Plot\n",
    "plt.show()\n"
   ]
  },
  {
   "cell_type": "markdown",
   "metadata": {},
   "source": [
    "# 5. Analysis and Conclusion"
   ]
  },
  {
   "cell_type": "markdown",
   "metadata": {},
   "source": [
    "##### From the above analysis, the data shows that the Party with the most money donated from 2016-2020 by the owners of American professional sport teams is the Republican Party with $34,246,016 donated! The Democratic Party received $10,113,639 and the Bipartisan Party received only $1,474,699. This data shows that the both the Republican and Democratic Parties receive significant donations from Professional Sport Team owners in America and the Bipartisan does not have much support. Also, something I found interesting was the top donor for the Republican Party, \"Charles Johnson\" because of how much more he donated in comparison to the other Republican Party supporters. He was a big outlier in the Republican Party dataset and being able to see it displayed in the bar graph really highlighted that. In conclusion, this project was really fun and challenging! Although I wish I would have chosen a dataset that I found a little more interesting, it was really fun trying to figure things out and find answers to each step along the way. I am looking forward to the next project."
   ]
  }
 ],
 "metadata": {
  "kernelspec": {
   "display_name": "Python 3",
   "language": "python",
   "name": "python3"
  },
  "language_info": {
   "codemirror_mode": {
    "name": "ipython",
    "version": 3
   },
   "file_extension": ".py",
   "mimetype": "text/x-python",
   "name": "python",
   "nbconvert_exporter": "python",
   "pygments_lexer": "ipython3",
   "version": "3.13.0"
  }
 },
 "nbformat": 4,
 "nbformat_minor": 2
}
